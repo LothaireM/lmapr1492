{
 "cells": [
  {
   "cell_type": "code",
   "execution_count": 1,
   "id": "violent-explosion",
   "metadata": {},
   "outputs": [],
   "source": [
    "from pymatgen.ext.matproj import MPRester\n",
    "from pymatgen.symmetry.analyzer import SpacegroupAnalyzer as sga\n",
    "from pymatgen.core.lattice import Lattice"
   ]
  },
  {
   "cell_type": "code",
   "execution_count": 2,
   "id": "activated-dover",
   "metadata": {},
   "outputs": [],
   "source": [
    "with MPRester(\"D0ZXquWb8kOQRgLT\") as m:\n",
    "    # Structure for material id\n",
    "    structure = m.get_structure_by_material_id(\"mp-1008559\")"
   ]
  },
  {
   "cell_type": "code",
   "execution_count": 5,
   "id": "peripheral-gothic",
   "metadata": {},
   "outputs": [
    {
     "name": "stdout",
     "output_type": "stream",
     "text": [
      "Vecteurs de bases du réseau direct :\n",
      " [[ 1.60014089 -2.77152532  0.        ]\n",
      " [ 1.60014089  2.77152532  0.        ]\n",
      " [ 0.          0.          5.298093  ]]\n",
      "Vecteurs de bases du réseau réciproque :\n",
      " [[ 1.96332253 -1.13352479  0.        ]\n",
      " [ 1.96332253  1.13352479  0.        ]\n",
      " [ 0.          0.          1.18593337]]\n",
      "Type de maille : hexagonal\n",
      "Système cristallin : hexagonal\n",
      "Groupe ponctuel : 6mm\n"
     ]
    }
   ],
   "source": [
    "# Création structures réseaux direct et réciproque\n",
    "struct = sga(structure).get_primitive_standard_structure()\n",
    "RéseauDirect = struct.lattice\n",
    "RéseauRéciproque = struct.lattice.reciprocal_lattice\n",
    "\n",
    "# Vecteurs de bases des réseaux direct et réciproque\n",
    "VecteurDirect = RéseauDirect.matrix\n",
    "VecteurRéciproque = RéseauRéciproque.matrix\n",
    "\n",
    "# Type de maille\n",
    "Maille = sga(struct).get_lattice_type()\n",
    "\n",
    "# Système cristallin\n",
    "Système = sga(struct).get_crystal_system()\n",
    "\n",
    "# Groupe ponctuel\n",
    "Groupe = sga(struct).get_point_group_symbol()\n",
    "\n",
    "# Affiche les réponses\n",
    "print(\"Vecteurs de bases du réseau direct :\" '\\n', VecteurDirect)\n",
    "print(\"Vecteurs de bases du réseau réciproque :\" '\\n', VecteurRéciproque)\n",
    "print(\"Type de maille :\", Maille)\n",
    "print(\"Système cristallin :\", Système)\n",
    "print(\"Groupe ponctuel :\", Groupe)"
   ]
  },
  {
   "cell_type": "code",
   "execution_count": null,
   "id": "printable-flight",
   "metadata": {},
   "outputs": [],
   "source": []
  }
 ],
 "metadata": {
  "kernelspec": {
   "display_name": "Python 3",
   "language": "python",
   "name": "python3"
  },
  "language_info": {
   "codemirror_mode": {
    "name": "ipython",
    "version": 3
   },
   "file_extension": ".py",
   "mimetype": "text/x-python",
   "name": "python",
   "nbconvert_exporter": "python",
   "pygments_lexer": "ipython3",
   "version": "3.6.8"
  }
 },
 "nbformat": 4,
 "nbformat_minor": 5
}
