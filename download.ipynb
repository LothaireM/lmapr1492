{
 "cells": [
  {
   "cell_type": "code",
   "execution_count": 13,
   "id": "instructional-depth",
   "metadata": {},
   "outputs": [],
   "source": [
    "from pymatgen.io.cif import CifWriter\n",
    "from pymatgen.ext.matproj import MPRester"
   ]
  },
  {
   "cell_type": "code",
   "execution_count": 14,
   "id": "earlier-messenger",
   "metadata": {},
   "outputs": [],
   "source": [
    "with MPRester(\"D0ZXquWb8kOQRgLT\") as m:\n",
    "\n",
    "    # Structure for material id\n",
    "    structure = m.get_structure_by_material_id(\"mp-1008559\")\n",
    "\n",
    "w = CifWriter(structure)\n",
    "w.write_file('mystructure.cif')"
   ]
  },
  {
   "cell_type": "code",
   "execution_count": null,
   "id": "western-orleans",
   "metadata": {},
   "outputs": [],
   "source": []
  }
 ],
 "metadata": {
  "kernelspec": {
   "display_name": "Python 3",
   "language": "python",
   "name": "python3"
  },
  "language_info": {
   "codemirror_mode": {
    "name": "ipython",
    "version": 3
   },
   "file_extension": ".py",
   "mimetype": "text/x-python",
   "name": "python",
   "nbconvert_exporter": "python",
   "pygments_lexer": "ipython3",
   "version": "3.6.8"
  }
 },
 "nbformat": 4,
 "nbformat_minor": 5
}
