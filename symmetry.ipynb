{
 "cells": [
  {
   "cell_type": "code",
   "execution_count": 1,
   "id": "following-samuel",
   "metadata": {},
   "outputs": [],
   "source": [
    "from pymatgen.ext.matproj import MPRester\n",
    "from pymatgen import Lattice, Structure\n",
    "from jupyter_jsmol import JsmolView\n",
    "from ipywidgets import Layout, widgets, interact\n",
    "from jupyter_jsmol.pymatgen import quick_view\n",
    "from pymatgen.core.operations import SymmOp "
   ]
  },
  {
   "cell_type": "code",
   "execution_count": 2,
   "id": "dominican-buying",
   "metadata": {},
   "outputs": [],
   "source": [
    "with MPRester(\"D0ZXquWb8kOQRgLT\") as m:\n",
    "    # Structure for material id\n",
    "    structure = m.get_structure_by_material_id(\"mp-1008559\")"
   ]
  },
  {
   "cell_type": "code",
   "execution_count": 3,
   "id": "restricted-colon",
   "metadata": {
    "scrolled": true
   },
   "outputs": [
    {
     "data": {
      "application/vnd.jupyter.widget-view+json": {
       "model_id": "a2192661fb834e79ada3d04b9ac01c98",
       "version_major": 2,
       "version_minor": 0
      },
      "text/plain": [
       "JsmolView(layout=Layout(align_self='stretch', height='400px'))"
      ]
     },
     "metadata": {},
     "output_type": "display_data"
    }
   ],
   "source": [
    "#Atomes sélectionnés\n",
    "P = [0.66667, 0.33333, 0.87473]\n",
    "B = [0.33333, 0.66667, 0.00027]\n",
    "P2 = [0.33333, 0.66667, 0.37473] # L'autre Phosphore\n",
    "\n",
    "# Réprésentation de la molécule de base\n",
    "view0 = quick_view(structure)\n",
    "display(view0)"
   ]
  },
  {
   "cell_type": "code",
   "execution_count": 4,
   "id": "soviet-vault",
   "metadata": {},
   "outputs": [
    {
     "name": "stdout",
     "output_type": "stream",
     "text": [
      "L'atome est P et est situé initialement en [0.66667, 0.33333, 0.87473] .\n",
      "On applique une symétrie d'inversion avec comme opérateur :\n",
      " [[-1.  0.  0.]\n",
      " [ 0. -1.  0.]\n",
      " [ 0.  0. -1.]]\n",
      "L'atome inversé se situe en [-0.66667 -0.33333 -0.87473] .\n",
      "Voici une représentation graphique de cette opération\n"
     ]
    },
    {
     "data": {
      "application/vnd.jupyter.widget-view+json": {
       "model_id": "0f0e6e2a3b0a4977a8296a15561ef44d",
       "version_major": 2,
       "version_minor": 0
      },
      "text/plain": [
       "JsmolView(layout=Layout(align_self='stretch', height='400px'))"
      ]
     },
     "metadata": {},
     "output_type": "display_data"
    }
   ],
   "source": [
    "#Application de la première symmétrie\n",
    "sym1 = SymmOp.from_xyz_string('-x,-y,-z')\n",
    "op1 = sym1.operate(P)\n",
    "print(\"L'atome est P et est situé initialement en\",P,\".\")\n",
    "print(\"On applique une symétrie d'inversion avec comme opérateur :\\n\",sym1.rotation_matrix)\n",
    "print(\"L'atome inversé se situe en\",op1,\".\")\n",
    "print(\"Voici une représentation graphique de cette opération\")\n",
    "view1 = quick_view(structure)\n",
    "display(view1)\n",
    "view1.script(\"draw symop 2 {atomno=4}\") "
   ]
  },
  {
   "cell_type": "code",
   "execution_count": 5,
   "id": "successful-kernel",
   "metadata": {
    "scrolled": false
   },
   "outputs": [
    {
     "name": "stdout",
     "output_type": "stream",
     "text": [
      "L'atome est B et est situé initialement en [0.33333, 0.66667, 0.00027] .\n",
      "On applique une symétrie de roto-inversion avec comme opérateur :\n",
      " [[ 0. -1.  0.]\n",
      " [ 0.  0. -1.]\n",
      " [-1.  0.  0.]]\n",
      "On réalise d'abord une rotation d'ordre 6 (angle de 60°) autour de l'axe z, suivit d'une inversion.\n",
      "L'atome roto-inversé se situe en [-6.6667e-01 -2.7000e-04 -3.3333e-01] .\n",
      "Voici une représentation graphique de cette opération\n"
     ]
    },
    {
     "data": {
      "application/vnd.jupyter.widget-view+json": {
       "model_id": "3f645b20935c4e83b1ca69a456db1b45",
       "version_major": 2,
       "version_minor": 0
      },
      "text/plain": [
       "JsmolView(layout=Layout(align_self='stretch', height='400px'))"
      ]
     },
     "metadata": {},
     "output_type": "display_data"
    }
   ],
   "source": [
    "#Application de la deuxième symmétrie\n",
    "sym2 = SymmOp.from_xyz_string('-y,-z,-x')\n",
    "op2 = sym2.operate(B)\n",
    "print(\"L'atome est B et est situé initialement en\",B,\".\")\n",
    "print(\"On applique une symétrie de roto-inversion avec comme opérateur :\\n\",sym2.rotation_matrix)\n",
    "print(\"On réalise d'abord une rotation d'ordre 6 (angle de 60°) autour de l'axe z, suivit d'une inversion.\")\n",
    "print(\"L'atome roto-inversé se situe en\",op2,\".\")\n",
    "print(\"Voici une représentation graphique de cette opération\")\n",
    "view2 = quick_view(structure)\n",
    "display(view2)\n",
    "view2.script(\"draw symop 6 {atomno=1}\")"
   ]
  },
  {
   "cell_type": "code",
   "execution_count": 6,
   "id": "advised-macro",
   "metadata": {},
   "outputs": [
    {
     "name": "stdout",
     "output_type": "stream",
     "text": [
      "L'atome est P2 et est situé initialement en [0.33333, 0.66667, 0.37473] .\n",
      "On applique une symétrie de rotation avec comme opérateur :\n",
      " [[ 1.  0.  0.]\n",
      " [ 1. -1.  0.]\n",
      " [ 0.  0.  1.]]\n",
      "On réalise une rotation d'ordre 3 (angle de 120°) autour de l'axe z.\n",
      "L'atome tourné se situe en [ 0.33333 -0.33334  0.37473] .\n",
      "Voici une représentation graphique de cette opération\n"
     ]
    },
    {
     "data": {
      "application/vnd.jupyter.widget-view+json": {
       "model_id": "fc4d4d0043a64bb3b76237797540d4d8",
       "version_major": 2,
       "version_minor": 0
      },
      "text/plain": [
       "JsmolView(layout=Layout(align_self='stretch', height='400px'))"
      ]
     },
     "metadata": {},
     "output_type": "display_data"
    }
   ],
   "source": [
    "#Application de la troisième symmétrie\n",
    "sym3 = SymmOp.from_xyz_string('x,x-y,z')\n",
    "op3 = sym3.operate([0.33333, 0.66667, 0.37473])\n",
    "print(\"L'atome est P2 et est situé initialement en\",P2,\".\")\n",
    "print(\"On applique une symétrie de rotation avec comme opérateur :\\n\",sym3.rotation_matrix)\n",
    "print(\"On réalise une rotation d'ordre 3 (angle de 120°) autour de l'axe z.\")\n",
    "print(\"L'atome tourné se situe en\",op3,\".\")\n",
    "print(\"Voici une représentation graphique de cette opération\")\n",
    "view3 = quick_view(structure)\n",
    "display(view3)\n",
    "view3.script(\"draw symop 5 {atomno=2}\") "
   ]
  }
 ],
 "metadata": {
  "kernelspec": {
   "display_name": "Python 3",
   "language": "python",
   "name": "python3"
  },
  "language_info": {
   "codemirror_mode": {
    "name": "ipython",
    "version": 3
   },
   "file_extension": ".py",
   "mimetype": "text/x-python",
   "name": "python",
   "nbconvert_exporter": "python",
   "pygments_lexer": "ipython3",
   "version": "3.6.8"
  }
 },
 "nbformat": 4,
 "nbformat_minor": 5
}
